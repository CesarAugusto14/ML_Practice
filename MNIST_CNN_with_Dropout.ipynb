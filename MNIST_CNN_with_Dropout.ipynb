{
  "cells": [
    {
      "cell_type": "code",
      "execution_count": null,
      "metadata": {
        "id": "fvrlQGAvLfdM"
      },
      "outputs": [],
      "source": [
        "import torch\n",
        "import torch.nn as nn\n",
        "import torchvision\n",
        "import matplotlib.pyplot as plt\n",
        "\n",
        "from sklearn.metrics import confusion_matrix, ConfusionMatrixDisplay\n",
        "from torchvision import transforms, datasets\n",
        "from torch.utils.data import random_split, DataLoader\n",
        "from torchsummary import summary\n",
        "from tqdm import tqdm\n"
      ]
    },
    {
      "cell_type": "markdown",
      "source": [
        "# MNIST Classification problem\n",
        "\n",
        "This is a notebook to perform the MNIST Classification Problem by using a Convolutional Neural Network. The scope of the problem is to classify properly handwritten numbers. We have 60000 numbers on our Training set, 10000 numbers on our test set. \n",
        "\n",
        "We also have 10 classes, whose are the numbers from 0 to 9. \n",
        "\n",
        "## PyTorch Implementation:\n",
        "\n",
        "For achieving this task, we will use this notebook to learn how to use the different implementations of PyTorch. We will need installed PyTorch, some parts of the PyTorch Ecosystem, and torchsummary. Also, we will need to install Scikit-Learn for showing the Confusion Matrix. \n",
        "\n",
        "Our first task is to load the Data. \n",
        "\n",
        "<b>REMEMBER ALWAYS TO HAVE YOUR GPU WORKING</b>\n",
        "\n",
        "### Links to the Documentation:\n",
        "\n",
        "- <a href=\"https://pytorch.org/vision/stable/generated/torchvision.datasets.MNIST.html#torchvision.datasets.MNIST\">Here</a> the user will be able to find how to use the MNIST object from PyTorch. The user could also download the data directly from <a href=\"http://yann.lecun.com/exdb/mnist/index.html\">Yann LeCun's repository.</a>\n",
        "\n",
        "- For accessing the documentation for the random splitter, the user can refer to <a href=\"https://pytorch.org/docs/stable/data.html#\"> documentation.</a> Note that the documentation is for the data library from PyTorch, which has inside the random splitter. \n",
        "\n",
        "- For accessing to the DataLoader documentation, you can follow   <a href=\"https://pytorch.org/docs/stable/data.html#torch.utils.data.DataLoader\"> this link.</a>\n",
        "\n",
        "### Loading the Data:"
      ],
      "metadata": {
        "id": "BvGGpQgXWehr"
      }
    },
    {
      "cell_type": "code",
      "execution_count": null,
      "metadata": {
        "id": "Fmhd1tK2LfdR"
      },
      "outputs": [],
      "source": [
        "image_path = './'\n",
        "transform = transforms.Compose([\n",
        "    transforms.ToTensor()\n",
        "])\n",
        "\n",
        "mnist_dataset = torchvision.datasets.MNIST(\n",
        "    root=image_path,\n",
        "    train=True,\n",
        "    transform=transform,\n",
        "    download=True\n",
        ")\n",
        "mnist_test_dataset = datasets.MNIST(\n",
        "    root=image_path,\n",
        "    train=False,\n",
        "    transform=transform,\n",
        "    download=False\n",
        ")\n",
        "# Train/ Validation Split (I am using the splitter from PyTorch.)\n",
        "mnist_train_dataset, mnist_val_dataset = random_split(mnist_dataset, [50000, 10000])\n",
        "\n",
        "# Call DataLoaders:\n",
        "train_dl = DataLoader(mnist_train_dataset, batch_size=64, shuffle=True)\n",
        "\n",
        "val_dl = DataLoader(mnist_val_dataset, batch_size=64, shuffle=True)\n",
        "\n",
        "# As I'm not using the test set sequentially, I won't put test set in a DataLoader."
      ]
    },
    {
      "cell_type": "markdown",
      "source": [
        "## Creating a Model with PyTorch:\n",
        "\n",
        "For this problem, I am using the <a href=\"https://pytorch.org/docs/stable/generated/torch.nn.Sequential.html\"> nn.Sequential() class</a> to create a model. Also, I am inheriting all the methods from the <a href=\"https://pytorch.org/docs/stable/generated/torch.nn.Module.html\"> nn.Module() object</a>. \n",
        "\n",
        "Note that I will also train my model by parallelizing computations with a GPU. This is done by calling model().to(device).\n",
        "\n",
        "Finally, note that as an output for the following cell, we can see a summary of the model, similar to the summary provided by Keras."
      ],
      "metadata": {
        "id": "RD3kDFsra9nc"
      }
    },
    {
      "cell_type": "code",
      "execution_count": null,
      "metadata": {
        "colab": {
          "base_uri": "https://localhost:8080/"
        },
        "id": "wf0_NtyRLfdU",
        "outputId": "adcbcef0-19bd-464e-cc87-d09630c49786"
      },
      "outputs": [
        {
          "output_type": "stream",
          "name": "stdout",
          "text": [
            "----------------------------------------------------------------\n",
            "        Layer (type)               Output Shape         Param #\n",
            "================================================================\n",
            "            Conv2d-1           [64, 32, 26, 26]             320\n",
            "              ReLU-2           [64, 32, 26, 26]               0\n",
            "         MaxPool2d-3           [64, 32, 13, 13]               0\n",
            "            Conv2d-4           [64, 64, 11, 11]          18,496\n",
            "              ReLU-5           [64, 64, 11, 11]               0\n",
            "         MaxPool2d-6             [64, 64, 5, 5]               0\n",
            "            Conv2d-7            [64, 128, 3, 3]          73,856\n",
            "              ReLU-8            [64, 128, 3, 3]               0\n",
            "         MaxPool2d-9            [64, 128, 1, 1]               0\n",
            "          Flatten-10                  [64, 128]               0\n",
            "           Linear-11                  [64, 128]          16,512\n",
            "             ReLU-12                  [64, 128]               0\n",
            "          Dropout-13                  [64, 128]               0\n",
            "           Linear-14                  [64, 128]          16,512\n",
            "             ReLU-15                  [64, 128]               0\n",
            "          Dropout-16                  [64, 128]               0\n",
            "           Linear-17                  [64, 128]          16,512\n",
            "             ReLU-18                  [64, 128]               0\n",
            "          Dropout-19                  [64, 128]               0\n",
            "           Linear-20                  [64, 128]          16,512\n",
            "             ReLU-21                  [64, 128]               0\n",
            "          Dropout-22                  [64, 128]               0\n",
            "           Linear-23                   [64, 10]           1,290\n",
            "================================================================\n",
            "Total params: 160,010\n",
            "Trainable params: 160,010\n",
            "Non-trainable params: 0\n",
            "----------------------------------------------------------------\n",
            "Input size (MB): 0.19\n",
            "Forward/backward pass size (MB): 34.11\n",
            "Params size (MB): 0.61\n",
            "Estimated Total Size (MB): 34.92\n",
            "----------------------------------------------------------------\n"
          ]
        }
      ],
      "source": [
        "# Model creation WITHOUT DROPOUT LAYER!\n",
        "class model(nn.Module):\n",
        "    def __init__(self):\n",
        "        super(model, self).__init__()\n",
        "        self.main = nn.Sequential(\n",
        "            nn.Conv2d(in_channels=1, out_channels=32, kernel_size=3, padding='valid'),\n",
        "            nn.ReLU(),\n",
        "            nn.MaxPool2d(kernel_size=2),\n",
        "            nn.Conv2d(in_channels=32, out_channels=64, kernel_size=3, padding='valid'),\n",
        "            nn.ReLU(),\n",
        "            nn.MaxPool2d(kernel_size=2),\n",
        "            nn.Conv2d(in_channels= 64, out_channels=128, kernel_size=3, padding='valid'),\n",
        "            nn.ReLU(),\n",
        "            nn.MaxPool2d(kernel_size=2),\n",
        "            nn.Flatten(),\n",
        "            nn.Linear(in_features=128, out_features=128),\n",
        "            nn.ReLU(),\n",
        "            nn.Dropout(p=0.3),\n",
        "            nn.Linear(in_features=128, out_features=128),\n",
        "            nn.ReLU(),\n",
        "            nn.Dropout(p=0.3),\n",
        "            nn.Linear(in_features=128, out_features=128),\n",
        "            nn.ReLU(),\n",
        "            nn.Dropout(p=0.3),\n",
        "            nn.Linear(in_features=128, out_features=128),\n",
        "            nn.ReLU(),\n",
        "            nn.Dropout(p=0.3),\n",
        "            nn.Linear(128, 10)\n",
        "        )\n",
        "    \n",
        "    def forward(self, input):\n",
        "        return self.main(input)\n",
        "\n",
        "device = torch.device(\"cuda\" if torch.cuda.is_available() else \"cpu\") # PyTorch v0.4.0\n",
        "model = model().to(device)\n",
        "\n",
        "# Summary:\n",
        "summary(model.main, input_size=(1,28, 28), batch_size=64)\n",
        "# Selection of Loss and Optimizer:\n",
        "loss_fn = nn.CrossEntropyLoss()\n",
        "optimizer = torch.optim.Adam(model.parameters(), lr=1e-3)\n"
      ]
    },
    {
      "cell_type": "markdown",
      "source": [
        "## Training of the Model\n",
        "\n",
        "More than trying to achieve the highest possible score, on this notebook we are aiming to regularize the model by adding dropout layers and performing EarlyStopping during the training of the network. \n",
        "\n",
        "Each part of the training function is commented to aid the easy reading of the code."
      ],
      "metadata": {
        "id": "_UVdWMuCb_VY"
      }
    },
    {
      "cell_type": "code",
      "execution_count": null,
      "metadata": {
        "colab": {
          "base_uri": "https://localhost:8080/"
        },
        "id": "d_c388vMLfdZ",
        "outputId": "116422d9-16b9-4328-f7f2-12e708097158"
      },
      "outputs": [
        {
          "output_type": "stream",
          "name": "stderr",
          "text": [
            "100%|██████████| 782/782 [00:15<00:00, 51.26it/s]\n"
          ]
        },
        {
          "output_type": "stream",
          "name": "stdout",
          "text": [
            "Epoch 1 / 100. Training Loss =  0.6271 Training_acc =  0.7911\n",
            "Val_Loss =  0.0401 Val_acc =  0.9485\n",
            "Best val_acc = 0.9484997987747192\n",
            "counter is 0\n"
          ]
        },
        {
          "output_type": "stream",
          "name": "stderr",
          "text": [
            "100%|██████████| 782/782 [00:07<00:00, 97.85it/s] \n"
          ]
        },
        {
          "output_type": "stream",
          "name": "stdout",
          "text": [
            "Epoch 2 / 100. Training Loss =  0.1562 Training_acc =  0.9599\n",
            "Val_Loss =  0.0237 Val_acc =  0.9694\n",
            "Best val_acc = 0.9693995714187622\n",
            "counter is 0\n"
          ]
        },
        {
          "output_type": "stream",
          "name": "stderr",
          "text": [
            "100%|██████████| 782/782 [00:07<00:00, 99.97it/s] \n"
          ]
        },
        {
          "output_type": "stream",
          "name": "stdout",
          "text": [
            "Epoch 3 / 100. Training Loss =  0.1081 Training_acc =  0.9722\n",
            "Val_Loss =  0.0199 Val_acc =  0.9752\n",
            "Best val_acc = 0.9751991033554077\n",
            "counter is 0\n"
          ]
        },
        {
          "output_type": "stream",
          "name": "stderr",
          "text": [
            "100%|██████████| 782/782 [00:07<00:00, 100.82it/s]\n"
          ]
        },
        {
          "output_type": "stream",
          "name": "stdout",
          "text": [
            "Epoch 4 / 100. Training Loss =  0.0874 Training_acc =  0.9778\n",
            "Val_Loss =  0.0162 Val_acc =  0.9800\n",
            "Best val_acc = 0.9799994826316833\n",
            "counter is 0\n"
          ]
        },
        {
          "output_type": "stream",
          "name": "stderr",
          "text": [
            "100%|██████████| 782/782 [00:07<00:00, 100.15it/s]\n"
          ]
        },
        {
          "output_type": "stream",
          "name": "stdout",
          "text": [
            "Epoch 5 / 100. Training Loss =  0.0729 Training_acc =  0.9812\n",
            "Val_Loss =  0.0163 Val_acc =  0.9798\n",
            "Best val_acc = 0.9799994826316833\n",
            "counter is 1\n"
          ]
        },
        {
          "output_type": "stream",
          "name": "stderr",
          "text": [
            "100%|██████████| 782/782 [00:07<00:00, 101.78it/s]\n"
          ]
        },
        {
          "output_type": "stream",
          "name": "stdout",
          "text": [
            "Epoch 6 / 100. Training Loss =  0.0628 Training_acc =  0.9840\n",
            "Val_Loss =  0.0220 Val_acc =  0.9751\n",
            "Best val_acc = 0.9799994826316833\n",
            "counter is 2\n"
          ]
        },
        {
          "output_type": "stream",
          "name": "stderr",
          "text": [
            "100%|██████████| 782/782 [00:08<00:00, 94.16it/s] \n"
          ]
        },
        {
          "output_type": "stream",
          "name": "stdout",
          "text": [
            "Epoch 7 / 100. Training Loss =  0.0565 Training_acc =  0.9856\n",
            "Val_Loss =  0.0145 Val_acc =  0.9822\n",
            "Best val_acc = 0.9821990728378296\n",
            "counter is 0\n"
          ]
        },
        {
          "output_type": "stream",
          "name": "stderr",
          "text": [
            "100%|██████████| 782/782 [00:07<00:00, 101.29it/s]\n"
          ]
        },
        {
          "output_type": "stream",
          "name": "stdout",
          "text": [
            "Epoch 8 / 100. Training Loss =  0.0511 Training_acc =  0.9872\n",
            "Val_Loss =  0.0157 Val_acc =  0.9824\n",
            "Best val_acc = 0.9823989272117615\n",
            "counter is 0\n"
          ]
        },
        {
          "output_type": "stream",
          "name": "stderr",
          "text": [
            "100%|██████████| 782/782 [00:07<00:00, 98.86it/s]\n"
          ]
        },
        {
          "output_type": "stream",
          "name": "stdout",
          "text": [
            "Epoch 9 / 100. Training Loss =  0.0459 Training_acc =  0.9886\n",
            "Val_Loss =  0.0132 Val_acc =  0.9847\n",
            "Best val_acc = 0.9846988916397095\n",
            "counter is 0\n"
          ]
        },
        {
          "output_type": "stream",
          "name": "stderr",
          "text": [
            "100%|██████████| 782/782 [00:08<00:00, 92.14it/s] \n"
          ]
        },
        {
          "output_type": "stream",
          "name": "stdout",
          "text": [
            "Epoch 10 / 100. Training Loss =  0.0395 Training_acc =  0.9903\n",
            "Val_Loss =  0.0139 Val_acc =  0.9833\n",
            "Best val_acc = 0.9846988916397095\n",
            "counter is 1\n"
          ]
        },
        {
          "output_type": "stream",
          "name": "stderr",
          "text": [
            "100%|██████████| 782/782 [00:07<00:00, 101.49it/s]\n"
          ]
        },
        {
          "output_type": "stream",
          "name": "stdout",
          "text": [
            "Epoch 11 / 100. Training Loss =  0.0389 Training_acc =  0.9904\n",
            "Val_Loss =  0.0180 Val_acc =  0.9816\n",
            "Best val_acc = 0.9846988916397095\n",
            "counter is 2\n"
          ]
        },
        {
          "output_type": "stream",
          "name": "stderr",
          "text": [
            "100%|██████████| 782/782 [00:11<00:00, 69.84it/s] \n"
          ]
        },
        {
          "output_type": "stream",
          "name": "stdout",
          "text": [
            "Epoch 12 / 100. Training Loss =  0.0349 Training_acc =  0.9914\n",
            "Val_Loss =  0.0138 Val_acc =  0.9854\n",
            "Best val_acc = 0.9853990077972412\n",
            "counter is 0\n"
          ]
        },
        {
          "output_type": "stream",
          "name": "stderr",
          "text": [
            "100%|██████████| 782/782 [00:07<00:00, 101.91it/s]\n"
          ]
        },
        {
          "output_type": "stream",
          "name": "stdout",
          "text": [
            "Epoch 13 / 100. Training Loss =  0.0306 Training_acc =  0.9928\n",
            "Val_Loss =  0.0168 Val_acc =  0.9810\n",
            "Best val_acc = 0.9853990077972412\n",
            "counter is 1\n"
          ]
        },
        {
          "output_type": "stream",
          "name": "stderr",
          "text": [
            "100%|██████████| 782/782 [00:07<00:00, 100.99it/s]\n"
          ]
        },
        {
          "output_type": "stream",
          "name": "stdout",
          "text": [
            "Epoch 14 / 100. Training Loss =  0.0266 Training_acc =  0.9931\n",
            "Val_Loss =  0.0235 Val_acc =  0.9791\n",
            "Best val_acc = 0.9853990077972412\n",
            "counter is 2\n"
          ]
        },
        {
          "output_type": "stream",
          "name": "stderr",
          "text": [
            "100%|██████████| 782/782 [00:07<00:00, 101.23it/s]\n"
          ]
        },
        {
          "output_type": "stream",
          "name": "stdout",
          "text": [
            "Epoch 15 / 100. Training Loss =  0.0291 Training_acc =  0.9928\n",
            "Val_Loss =  0.0194 Val_acc =  0.9797\n",
            "Best val_acc = 0.9853990077972412\n",
            "counter is 3\n"
          ]
        },
        {
          "output_type": "stream",
          "name": "stderr",
          "text": [
            "100%|██████████| 782/782 [00:07<00:00, 100.79it/s]\n"
          ]
        },
        {
          "output_type": "stream",
          "name": "stdout",
          "text": [
            "Epoch 16 / 100. Training Loss =  0.0289 Training_acc =  0.9929\n",
            "Val_Loss =  0.0134 Val_acc =  0.9854\n",
            "Best val_acc = 0.9853990077972412\n",
            "counter is 4\n"
          ]
        },
        {
          "output_type": "stream",
          "name": "stderr",
          "text": [
            "100%|██████████| 782/782 [00:07<00:00, 102.81it/s]\n"
          ]
        },
        {
          "output_type": "stream",
          "name": "stdout",
          "text": [
            "Epoch 17 / 100. Training Loss =  0.0232 Training_acc =  0.9944\n",
            "Val_Loss =  0.0152 Val_acc =  0.9852\n",
            "Best val_acc = 0.9853990077972412\n",
            "counter is 5\n"
          ]
        },
        {
          "output_type": "stream",
          "name": "stderr",
          "text": [
            "100%|██████████| 782/782 [00:08<00:00, 89.60it/s]\n"
          ]
        },
        {
          "output_type": "stream",
          "name": "stdout",
          "text": [
            "Epoch 18 / 100. Training Loss =  0.0231 Training_acc =  0.9941\n",
            "Val_Loss =  0.0146 Val_acc =  0.9875\n",
            "Best val_acc = 0.9874988794326782\n",
            "counter is 0\n"
          ]
        },
        {
          "output_type": "stream",
          "name": "stderr",
          "text": [
            "100%|██████████| 782/782 [00:07<00:00, 101.10it/s]\n"
          ]
        },
        {
          "output_type": "stream",
          "name": "stdout",
          "text": [
            "Epoch 19 / 100. Training Loss =  0.0197 Training_acc =  0.9949\n",
            "Val_Loss =  0.0144 Val_acc =  0.9855\n",
            "Best val_acc = 0.9874988794326782\n",
            "counter is 1\n"
          ]
        },
        {
          "output_type": "stream",
          "name": "stderr",
          "text": [
            "100%|██████████| 782/782 [00:07<00:00, 102.44it/s]\n"
          ]
        },
        {
          "output_type": "stream",
          "name": "stdout",
          "text": [
            "Epoch 20 / 100. Training Loss =  0.0216 Training_acc =  0.9946\n",
            "Val_Loss =  0.0139 Val_acc =  0.9872\n",
            "Best val_acc = 0.9874988794326782\n",
            "counter is 2\n"
          ]
        },
        {
          "output_type": "stream",
          "name": "stderr",
          "text": [
            "100%|██████████| 782/782 [00:07<00:00, 100.49it/s]\n"
          ]
        },
        {
          "output_type": "stream",
          "name": "stdout",
          "text": [
            "Epoch 21 / 100. Training Loss =  0.0230 Training_acc =  0.9945\n",
            "Val_Loss =  0.0158 Val_acc =  0.9867\n",
            "Best val_acc = 0.9874988794326782\n",
            "counter is 3\n"
          ]
        },
        {
          "output_type": "stream",
          "name": "stderr",
          "text": [
            "100%|██████████| 782/782 [00:07<00:00, 100.53it/s]\n"
          ]
        },
        {
          "output_type": "stream",
          "name": "stdout",
          "text": [
            "Epoch 22 / 100. Training Loss =  0.0191 Training_acc =  0.9955\n",
            "Val_Loss =  0.0149 Val_acc =  0.9867\n",
            "Best val_acc = 0.9874988794326782\n",
            "counter is 4\n"
          ]
        },
        {
          "output_type": "stream",
          "name": "stderr",
          "text": [
            "100%|██████████| 782/782 [00:07<00:00, 101.43it/s]\n"
          ]
        },
        {
          "output_type": "stream",
          "name": "stdout",
          "text": [
            "Epoch 23 / 100. Training Loss =  0.0179 Training_acc =  0.9952\n",
            "Val_Loss =  0.0157 Val_acc =  0.9862\n",
            "Best val_acc = 0.9874988794326782\n",
            "counter is 5\n"
          ]
        },
        {
          "output_type": "stream",
          "name": "stderr",
          "text": [
            "100%|██████████| 782/782 [00:08<00:00, 94.63it/s]\n"
          ]
        },
        {
          "output_type": "stream",
          "name": "stdout",
          "text": [
            "Epoch 24 / 100. Training Loss =  0.0162 Training_acc =  0.9960\n",
            "Val_Loss =  0.0176 Val_acc =  0.9849\n",
            "Best val_acc = 0.9874988794326782\n",
            "counter is 6\n"
          ]
        },
        {
          "output_type": "stream",
          "name": "stderr",
          "text": [
            "100%|██████████| 782/782 [00:07<00:00, 102.21it/s]\n"
          ]
        },
        {
          "output_type": "stream",
          "name": "stdout",
          "text": [
            "Epoch 25 / 100. Training Loss =  0.0187 Training_acc =  0.9953\n",
            "Val_Loss =  0.0141 Val_acc =  0.9875\n",
            "Best val_acc = 0.9874988794326782\n",
            "counter is 0\n"
          ]
        },
        {
          "output_type": "stream",
          "name": "stderr",
          "text": [
            "100%|██████████| 782/782 [00:07<00:00, 102.99it/s]\n"
          ]
        },
        {
          "output_type": "stream",
          "name": "stdout",
          "text": [
            "Epoch 26 / 100. Training Loss =  0.0165 Training_acc =  0.9964\n",
            "Val_Loss =  0.0206 Val_acc =  0.9866\n",
            "Best val_acc = 0.9874988794326782\n",
            "counter is 1\n"
          ]
        },
        {
          "output_type": "stream",
          "name": "stderr",
          "text": [
            "100%|██████████| 782/782 [00:08<00:00, 96.09it/s] \n"
          ]
        },
        {
          "output_type": "stream",
          "name": "stdout",
          "text": [
            "Epoch 27 / 100. Training Loss =  0.0169 Training_acc =  0.9964\n",
            "Val_Loss =  0.0165 Val_acc =  0.9866\n",
            "Best val_acc = 0.9874988794326782\n",
            "counter is 2\n"
          ]
        },
        {
          "output_type": "stream",
          "name": "stderr",
          "text": [
            "100%|██████████| 782/782 [00:07<00:00, 101.96it/s]\n"
          ]
        },
        {
          "output_type": "stream",
          "name": "stdout",
          "text": [
            "Epoch 28 / 100. Training Loss =  0.0164 Training_acc =  0.9959\n",
            "Val_Loss =  0.0177 Val_acc =  0.9854\n",
            "Best val_acc = 0.9874988794326782\n",
            "counter is 3\n"
          ]
        },
        {
          "output_type": "stream",
          "name": "stderr",
          "text": [
            "100%|██████████| 782/782 [00:07<00:00, 100.80it/s]\n"
          ]
        },
        {
          "output_type": "stream",
          "name": "stdout",
          "text": [
            "Epoch 29 / 100. Training Loss =  0.0163 Training_acc =  0.9958\n",
            "Val_Loss =  0.0204 Val_acc =  0.9869\n",
            "Best val_acc = 0.9874988794326782\n",
            "counter is 4\n"
          ]
        },
        {
          "output_type": "stream",
          "name": "stderr",
          "text": [
            "100%|██████████| 782/782 [00:07<00:00, 101.87it/s]\n"
          ]
        },
        {
          "output_type": "stream",
          "name": "stdout",
          "text": [
            "Epoch 30 / 100. Training Loss =  0.0137 Training_acc =  0.9965\n",
            "Val_Loss =  0.0202 Val_acc =  0.9851\n",
            "Best val_acc = 0.9874988794326782\n",
            "counter is 5\n"
          ]
        },
        {
          "output_type": "stream",
          "name": "stderr",
          "text": [
            "100%|██████████| 782/782 [00:07<00:00, 102.08it/s]\n"
          ]
        },
        {
          "output_type": "stream",
          "name": "stdout",
          "text": [
            "Epoch 31 / 100. Training Loss =  0.0118 Training_acc =  0.9968\n",
            "Val_Loss =  0.0201 Val_acc =  0.9880\n",
            "Best val_acc = 0.9879988431930542\n",
            "counter is 0\n"
          ]
        },
        {
          "output_type": "stream",
          "name": "stderr",
          "text": [
            "100%|██████████| 782/782 [00:07<00:00, 101.67it/s]\n"
          ]
        },
        {
          "output_type": "stream",
          "name": "stdout",
          "text": [
            "Epoch 32 / 100. Training Loss =  0.0159 Training_acc =  0.9967\n",
            "Val_Loss =  0.0144 Val_acc =  0.9880\n",
            "Best val_acc = 0.9879988431930542\n",
            "counter is 1\n"
          ]
        },
        {
          "output_type": "stream",
          "name": "stderr",
          "text": [
            "100%|██████████| 782/782 [00:07<00:00, 101.38it/s]\n"
          ]
        },
        {
          "output_type": "stream",
          "name": "stdout",
          "text": [
            "Epoch 33 / 100. Training Loss =  0.0142 Training_acc =  0.9967\n",
            "Val_Loss =  0.0205 Val_acc =  0.9853\n",
            "Best val_acc = 0.9879988431930542\n",
            "counter is 2\n"
          ]
        },
        {
          "output_type": "stream",
          "name": "stderr",
          "text": [
            "100%|██████████| 782/782 [00:07<00:00, 102.58it/s]\n"
          ]
        },
        {
          "output_type": "stream",
          "name": "stdout",
          "text": [
            "Epoch 34 / 100. Training Loss =  0.0150 Training_acc =  0.9966\n",
            "Val_Loss =  0.0173 Val_acc =  0.9863\n",
            "Best val_acc = 0.9879988431930542\n",
            "counter is 3\n"
          ]
        },
        {
          "output_type": "stream",
          "name": "stderr",
          "text": [
            "100%|██████████| 782/782 [00:07<00:00, 102.15it/s]\n"
          ]
        },
        {
          "output_type": "stream",
          "name": "stdout",
          "text": [
            "Epoch 35 / 100. Training Loss =  0.0116 Training_acc =  0.9970\n",
            "Val_Loss =  0.0199 Val_acc =  0.9874\n",
            "Best val_acc = 0.9879988431930542\n",
            "counter is 4\n"
          ]
        },
        {
          "output_type": "stream",
          "name": "stderr",
          "text": [
            "100%|██████████| 782/782 [00:07<00:00, 101.42it/s]\n"
          ]
        },
        {
          "output_type": "stream",
          "name": "stdout",
          "text": [
            "Epoch 36 / 100. Training Loss =  0.0106 Training_acc =  0.9977\n",
            "Val_Loss =  0.0146 Val_acc =  0.9862\n",
            "Best val_acc = 0.9879988431930542\n",
            "counter is 5\n"
          ]
        },
        {
          "output_type": "stream",
          "name": "stderr",
          "text": [
            "100%|██████████| 782/782 [00:07<00:00, 101.22it/s]\n"
          ]
        },
        {
          "output_type": "stream",
          "name": "stdout",
          "text": [
            "Epoch 37 / 100. Training Loss =  0.0147 Training_acc =  0.9963\n",
            "Val_Loss =  0.0172 Val_acc =  0.9863\n",
            "Best val_acc = 0.9879988431930542\n",
            "counter is 6\n"
          ]
        },
        {
          "output_type": "stream",
          "name": "stderr",
          "text": [
            "100%|██████████| 782/782 [00:07<00:00, 102.60it/s]\n"
          ]
        },
        {
          "output_type": "stream",
          "name": "stdout",
          "text": [
            "Epoch 38 / 100. Training Loss =  0.0111 Training_acc =  0.9974\n",
            "Val_Loss =  0.0190 Val_acc =  0.9870\n",
            "Best val_acc = 0.9879988431930542\n",
            "counter is 7\n"
          ]
        },
        {
          "output_type": "stream",
          "name": "stderr",
          "text": [
            "100%|██████████| 782/782 [00:07<00:00, 102.43it/s]\n"
          ]
        },
        {
          "output_type": "stream",
          "name": "stdout",
          "text": [
            "Epoch 39 / 100. Training Loss =  0.0123 Training_acc =  0.9972\n",
            "Val_Loss =  0.0185 Val_acc =  0.9891\n",
            "Best val_acc = 0.9890987873077393\n",
            "counter is 0\n"
          ]
        },
        {
          "output_type": "stream",
          "name": "stderr",
          "text": [
            "100%|██████████| 782/782 [00:07<00:00, 100.50it/s]\n"
          ]
        },
        {
          "output_type": "stream",
          "name": "stdout",
          "text": [
            "Epoch 40 / 100. Training Loss =  0.0139 Training_acc =  0.9969\n",
            "Val_Loss =  0.0201 Val_acc =  0.9868\n",
            "Best val_acc = 0.9890987873077393\n",
            "counter is 1\n"
          ]
        },
        {
          "output_type": "stream",
          "name": "stderr",
          "text": [
            "100%|██████████| 782/782 [00:07<00:00, 101.90it/s]\n"
          ]
        },
        {
          "output_type": "stream",
          "name": "stdout",
          "text": [
            "Epoch 41 / 100. Training Loss =  0.0126 Training_acc =  0.9973\n",
            "Val_Loss =  0.0191 Val_acc =  0.9856\n",
            "Best val_acc = 0.9890987873077393\n",
            "counter is 2\n"
          ]
        },
        {
          "output_type": "stream",
          "name": "stderr",
          "text": [
            "100%|██████████| 782/782 [00:07<00:00, 99.05it/s]\n"
          ]
        },
        {
          "output_type": "stream",
          "name": "stdout",
          "text": [
            "Epoch 42 / 100. Training Loss =  0.0130 Training_acc =  0.9971\n",
            "Val_Loss =  0.0162 Val_acc =  0.9880\n",
            "Best val_acc = 0.9890987873077393\n",
            "counter is 3\n"
          ]
        },
        {
          "output_type": "stream",
          "name": "stderr",
          "text": [
            "100%|██████████| 782/782 [00:07<00:00, 100.92it/s]\n"
          ]
        },
        {
          "output_type": "stream",
          "name": "stdout",
          "text": [
            "Epoch 43 / 100. Training Loss =  0.0118 Training_acc =  0.9974\n",
            "Val_Loss =  0.0258 Val_acc =  0.9852\n",
            "Best val_acc = 0.9890987873077393\n",
            "counter is 4\n"
          ]
        },
        {
          "output_type": "stream",
          "name": "stderr",
          "text": [
            "100%|██████████| 782/782 [00:07<00:00, 101.80it/s]\n"
          ]
        },
        {
          "output_type": "stream",
          "name": "stdout",
          "text": [
            "Epoch 44 / 100. Training Loss =  0.0110 Training_acc =  0.9974\n",
            "Val_Loss =  0.0243 Val_acc =  0.9849\n",
            "Best val_acc = 0.9890987873077393\n",
            "counter is 5\n"
          ]
        },
        {
          "output_type": "stream",
          "name": "stderr",
          "text": [
            "100%|██████████| 782/782 [00:07<00:00, 102.45it/s]\n"
          ]
        },
        {
          "output_type": "stream",
          "name": "stdout",
          "text": [
            "Epoch 45 / 100. Training Loss =  0.0109 Training_acc =  0.9976\n",
            "Val_Loss =  0.0162 Val_acc =  0.9862\n",
            "Best val_acc = 0.9890987873077393\n",
            "counter is 6\n"
          ]
        },
        {
          "output_type": "stream",
          "name": "stderr",
          "text": [
            "100%|██████████| 782/782 [00:07<00:00, 102.54it/s]\n"
          ]
        },
        {
          "output_type": "stream",
          "name": "stdout",
          "text": [
            "Epoch 46 / 100. Training Loss =  0.0087 Training_acc =  0.9979\n",
            "Val_Loss =  0.0189 Val_acc =  0.9880\n",
            "Best val_acc = 0.9890987873077393\n",
            "counter is 7\n"
          ]
        },
        {
          "output_type": "stream",
          "name": "stderr",
          "text": [
            "100%|██████████| 782/782 [00:07<00:00, 101.37it/s]\n"
          ]
        },
        {
          "output_type": "stream",
          "name": "stdout",
          "text": [
            "Epoch 47 / 100. Training Loss =  0.0092 Training_acc =  0.9979\n",
            "Val_Loss =  0.0362 Val_acc =  0.9759\n",
            "Best val_acc = 0.9890987873077393\n",
            "counter is 8\n"
          ]
        },
        {
          "output_type": "stream",
          "name": "stderr",
          "text": [
            "100%|██████████| 782/782 [00:07<00:00, 101.68it/s]\n"
          ]
        },
        {
          "output_type": "stream",
          "name": "stdout",
          "text": [
            "Epoch 48 / 100. Training Loss =  0.0101 Training_acc =  0.9978\n",
            "Val_Loss =  0.0259 Val_acc =  0.9871\n",
            "Best val_acc = 0.9890987873077393\n",
            "counter is 9\n"
          ]
        },
        {
          "output_type": "stream",
          "name": "stderr",
          "text": [
            "100%|██████████| 782/782 [00:07<00:00, 101.43it/s]\n"
          ]
        },
        {
          "output_type": "stream",
          "name": "stdout",
          "text": [
            "Epoch 49 / 100. Training Loss =  0.0105 Training_acc =  0.9978\n",
            "Val_Loss =  0.0245 Val_acc =  0.9854\n",
            "Best val_acc = 0.9890987873077393\n",
            "counter is 10\n"
          ]
        },
        {
          "output_type": "stream",
          "name": "stderr",
          "text": [
            "100%|██████████| 782/782 [00:08<00:00, 96.79it/s]\n"
          ]
        },
        {
          "output_type": "stream",
          "name": "stdout",
          "text": [
            "Epoch 50 / 100. Training Loss =  0.0106 Training_acc =  0.9977\n",
            "Val_Loss =  0.0213 Val_acc =  0.9883\n",
            "Early stopping achieved.\n"
          ]
        }
      ],
      "source": [
        "# Training Script for Classification tasks, with EarlyStopping:\n",
        "\n",
        "\n",
        "def train(model, train_dl, num_epochs=100, patience=5):\n",
        "\n",
        "    # Lists for storing the training values:\n",
        "    training_loss = []\n",
        "    training_acc = []\n",
        "    val_loss = []\n",
        "    val_acc = []\n",
        "    # Control for the Early Stopping:\n",
        "    best_acc = 0\n",
        "    counter = 0\n",
        "\n",
        "    for epoch in range(num_epochs):\n",
        "        # Initialize the running loss and accuracy for estimating the metrics \n",
        "        # during the running of each batch. \n",
        "        running_loss = 0\n",
        "        running_acc = 0\n",
        "\n",
        "        for x_batch, y_batch in tqdm(train_dl):\n",
        "            # Prediciton:\n",
        "            pred = model(x_batch.to(device))\n",
        "            # Computing the Loss:\n",
        "            loss = loss_fn(pred, y_batch.to(device))\n",
        "            # We want to get an estimate of the loss per epoch\n",
        "            running_loss += loss.item()/len(train_dl)\n",
        "            # Backpropagation of the loss:\n",
        "            loss.backward()\n",
        "            # Actualization of the weights:\n",
        "            optimizer.step()\n",
        "            # Setting to zero the grads.\n",
        "            optimizer.zero_grad()\n",
        "            # Computing running accuracy.\n",
        "            correct = (torch.argmax(pred, dim=1) == y_batch.to(device)).float()\n",
        "            running_acc += correct.sum()/len(train_dl.dataset)\n",
        "        # History of the loss and accuracy per Epoch:\n",
        "        training_loss.append(running_loss)\n",
        "        training_acc.append(running_acc.cpu())\n",
        "        print(\n",
        "            f'Epoch {epoch+1} / {num_epochs}. Training Loss = {running_loss: .4f} '\n",
        "            f'Training_acc = {running_acc : .4f}')\n",
        "\n",
        "        # Doing the same for the validation.\n",
        "        # (Difference: We don't compute the gradients)\n",
        "\n",
        "        running_loss = 0\n",
        "        running_acc = 0\n",
        "        for x_batch, y_batch in val_dl:\n",
        "            pred = model(x_batch.to(device))\n",
        "            loss = loss_fn(pred, y_batch.to(device))\n",
        "            running_loss += loss.item()/len(train_dl)\n",
        "            correct = (torch.argmax(pred, dim=1) == y_batch.to(device)).float()\n",
        "            running_acc += correct.sum()/len(val_dl.dataset)\n",
        "        val_loss.append(running_loss)\n",
        "        val_acc.append(running_acc.cpu())\n",
        "        print(\n",
        "            f'Val_Loss = {running_loss: .4f} '\n",
        "            f'Val_acc = {running_acc : .4f}')\n",
        "        \n",
        "        # Early Stopping Criteria, note that if the accuracy is not improving\n",
        "        # after several epochs (given by the patience), it will stop and save\n",
        "        # the model that is giving best results on unseen data. \n",
        "        \n",
        "        if float(running_acc) < float(best_acc):\n",
        "            counter +=1\n",
        "            if counter > patience:\n",
        "                print('Early stopping achieved.')\n",
        "                model=snapshot\n",
        "                return training_loss, training_acc, val_loss, val_acc\n",
        "        else:\n",
        "            counter = 0\n",
        "            best_acc = running_acc\n",
        "            snapshot = model\n",
        "            \n",
        "        print(f'Best val_acc = {best_acc}')        \n",
        "        print(f'counter is {counter}')\n",
        "        \n",
        "    return training_loss, training_acc, val_loss, val_acc\n",
        "\n",
        "\n",
        "hist = train(model, num_epochs=100, patience=10, train_dl=train_dl)"
      ]
    },
    {
      "cell_type": "code",
      "execution_count": null,
      "metadata": {
        "colab": {
          "base_uri": "https://localhost:8080/",
          "height": 621
        },
        "id": "Ejer70UPLfdd",
        "outputId": "2951eb22-90b5-4b86-e4d8-e8f95aff6ee2"
      },
      "outputs": [
        {
          "output_type": "display_data",
          "data": {
            "text/plain": [
              "<Figure size 720x720 with 1 Axes>"
            ],
            "image/png": "[encoded data removed]"
          },
          "metadata": {
            "needs_background": "light"
          }
        }
      ],
      "source": [
        "plt.figure(figsize=(10,10))\n",
        "plt.plot(hist[0], 'r--',lw=2, label='Training Loss')\n",
        "plt.plot(hist[2], 'k',lw=2, label='Validation Loss')\n",
        "plt.legend(loc=1)\n",
        "plt.title('Loss')\n",
        "plt.xlabel('Epochs')\n",
        "plt.show()"
      ]
    },
    {
      "cell_type": "code",
      "execution_count": null,
      "metadata": {
        "colab": {
          "base_uri": "https://localhost:8080/",
          "height": 621
        },
        "id": "vujCaubrLfdh",
        "outputId": "652f83f6-f887-4482-d099-71fee000da22"
      },
      "outputs": [
        {
          "output_type": "display_data",
          "data": {
            "text/plain": [
              "<Figure size 720x720 with 1 Axes>"
            ],
            "image/png": "[encoded data removed]"
          },
          "metadata": {
            "needs_background": "light"
          }
        }
      ],
      "source": [
        "plt.figure(figsize=(10,10))\n",
        "plt.plot(hist[1], 'r--',lw=2, label='Training Accuracy')\n",
        "plt.plot(hist[3], 'k',lw=2, label='Validation Accuracy')\n",
        "plt.legend(loc=4)\n",
        "plt.title('Accuracy')\n",
        "plt.xlabel('Epochs')\n",
        "plt.show()"
      ]
    },
    {
      "cell_type": "code",
      "execution_count": null,
      "metadata": {
        "colab": {
          "base_uri": "https://localhost:8080/",
          "height": 567
        },
        "id": "UPJ6M1vMLfdk",
        "outputId": "425bcab2-8020-420d-d54d-047abfc6053d"
      },
      "outputs": [
        {
          "output_type": "display_data",
          "data": {
            "text/plain": [
              "<Figure size 648x648 with 1 Axes>"
            ],
            "image/png": "[encoded data removed]"
          },
          "metadata": {
            "needs_background": "light"
          }
        }
      ],
      "source": [
        "model.to('cpu')\n",
        "pred = torch.argmax(model((mnist_test_dataset.data.unsqueeze(1)/255)), dim=1)\n",
        "\n",
        "correct = (pred == mnist_test_dataset.targets).float()\n",
        "test_acc = correct.sum()/len(mnist_test_dataset.targets)\n",
        "conf_matrix_1 = confusion_matrix(mnist_test_dataset.targets, pred)\n",
        "fig, ax = plt.subplots(figsize=(9, 9))\n",
        "disp = ConfusionMatrixDisplay(confusion_matrix=conf_matrix_1,)\n",
        "disp.plot(ax=ax, cmap=plt.cm.magma, colorbar=False)\n",
        "plt.title(f'The Test Accuracy is : {test_acc*100 : .4f} %')\n",
        "plt.savefig('conf_MNIST_cnn_no_dropout.jpg', bbox_inches='tight')\n",
        "plt.show()"
      ]
    },
    {
      "cell_type": "code",
      "source": [
        "model"
      ],
      "metadata": {
        "colab": {
          "base_uri": "https://localhost:8080/"
        },
        "id": "N1Y1jkgQxnix",
        "outputId": "7722d874-b461-4605-ebe3-2b825c670ce7"
      },
      "execution_count": null,
      "outputs": [
        {
          "output_type": "execute_result",
          "data": {
            "text/plain": [
              "model(\n",
              "  (main): Sequential(\n",
              "    (0): Conv2d(1, 32, kernel_size=(3, 3), stride=(1, 1), padding=valid)\n",
              "    (1): ReLU()\n",
              "    (2): MaxPool2d(kernel_size=2, stride=2, padding=0, dilation=1, ceil_mode=False)\n",
              "    (3): Conv2d(32, 64, kernel_size=(3, 3), stride=(1, 1), padding=valid)\n",
              "    (4): ReLU()\n",
              "    (5): MaxPool2d(kernel_size=2, stride=2, padding=0, dilation=1, ceil_mode=False)\n",
              "    (6): Conv2d(64, 128, kernel_size=(3, 3), stride=(1, 1), padding=valid)\n",
              "    (7): ReLU()\n",
              "    (8): MaxPool2d(kernel_size=2, stride=2, padding=0, dilation=1, ceil_mode=False)\n",
              "    (9): Flatten(start_dim=1, end_dim=-1)\n",
              "    (10): Linear(in_features=128, out_features=128, bias=True)\n",
              "    (11): ReLU()\n",
              "    (12): Dropout(p=0.3, inplace=False)\n",
              "    (13): Linear(in_features=128, out_features=128, bias=True)\n",
              "    (14): ReLU()\n",
              "    (15): Dropout(p=0.3, inplace=False)\n",
              "    (16): Linear(in_features=128, out_features=128, bias=True)\n",
              "    (17): ReLU()\n",
              "    (18): Dropout(p=0.3, inplace=False)\n",
              "    (19): Linear(in_features=128, out_features=128, bias=True)\n",
              "    (20): ReLU()\n",
              "    (21): Dropout(p=0.3, inplace=False)\n",
              "    (22): Linear(in_features=128, out_features=10, bias=True)\n",
              "  )\n",
              ")"
            ]
          },
          "metadata": {},
          "execution_count": 132
        }
      ]
    },
    {
      "cell_type": "code",
      "source": [
        ""
      ],
      "metadata": {
        "id": "kh0uLIHXxxpP"
      },
      "execution_count": null,
      "outputs": []
    }
  ],
  "metadata": {
    "kernelspec": {
      "display_name": "Python 3.10.5 64-bit",
      "language": "python",
      "name": "python3"
    },
    "language_info": {
      "codemirror_mode": {
        "name": "ipython",
        "version": 3
      },
      "file_extension": ".py",
      "mimetype": "text/x-python",
      "name": "python",
      "nbconvert_exporter": "python",
      "pygments_lexer": "ipython3",
      "version": "3.10.5"
    },
    "orig_nbformat": 4,
    "vscode": {
      "interpreter": {
        "hash": "e7370f93d1d0cde622a1f8e1c04877d8463912d04d973331ad4851f04de6915a"
      }
    },
    "colab": {
      "name": "MNIST_CNN_with_Dropout.ipynb",
      "provenance": [],
      "collapsed_sections": []
    },
    "accelerator": "GPU",
    "gpuClass": "standard"
  },
  "nbformat": 4,
  "nbformat_minor": 0
}